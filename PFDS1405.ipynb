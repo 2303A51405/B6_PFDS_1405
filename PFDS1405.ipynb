{
  "nbformat": 4,
  "nbformat_minor": 0,
  "metadata": {
    "colab": {
      "provenance": [],
      "authorship_tag": "ABX9TyMQsRm9sq8fJWn8tsoxnDia",
      "include_colab_link": true
    },
    "kernelspec": {
      "name": "python3",
      "display_name": "Python 3"
    },
    "language_info": {
      "name": "python"
    }
  },
  "cells": [
    {
      "cell_type": "markdown",
      "metadata": {
        "id": "view-in-github",
        "colab_type": "text"
      },
      "source": [
        "<a href=\"https://colab.research.google.com/github/2303A51405/B6_PFDS_1405/blob/main/PFDS1405.ipynb\" target=\"_parent\"><img src=\"https://colab.research.google.com/assets/colab-badge.svg\" alt=\"Open In Colab\"/></a>"
      ]
    },
    {
      "cell_type": "code",
      "execution_count": 1,
      "metadata": {
        "colab": {
          "base_uri": "https://localhost:8080/"
        },
        "id": "4c2o_oEkuzhP",
        "outputId": "1a4febe7-332c-4aec-cb59-148304989a94"
      },
      "outputs": [
        {
          "output_type": "stream",
          "name": "stdout",
          "text": [
            "[1 2 3 4]\n"
          ]
        }
      ],
      "source": [
        "import numpy as np\n",
        "a=np.array([1,2,3,4])\n",
        "print(a)\n"
      ]
    },
    {
      "cell_type": "code",
      "source": [
        "b=np.array([[1,2],[3,4]])\n",
        "print(b)"
      ],
      "metadata": {
        "colab": {
          "base_uri": "https://localhost:8080/"
        },
        "id": "P0IStjq-vhSY",
        "outputId": "a1b108d4-7eca-4f07-fbec-5fc0a0ee3bca"
      },
      "execution_count": 3,
      "outputs": [
        {
          "output_type": "stream",
          "name": "stdout",
          "text": [
            "[[1 2]\n",
            " [3 4]]\n"
          ]
        }
      ]
    },
    {
      "cell_type": "code",
      "source": [
        "c = np.zeros((2,2))\n",
        "print(c)"
      ],
      "metadata": {
        "colab": {
          "base_uri": "https://localhost:8080/"
        },
        "id": "B4TkiNzWv4X5",
        "outputId": "4dff4353-c8cf-4a94-c65f-243dfb184291"
      },
      "execution_count": 5,
      "outputs": [
        {
          "output_type": "stream",
          "name": "stdout",
          "text": [
            "[[0. 0.]\n",
            " [0. 0.]]\n"
          ]
        }
      ]
    },
    {
      "cell_type": "code",
      "source": [
        "d=np.ones((2,3))\n",
        "print(d)"
      ],
      "metadata": {
        "colab": {
          "base_uri": "https://localhost:8080/"
        },
        "id": "bCnbM9-awKWT",
        "outputId": "1834c428-1493-49b2-a895-28ada6e7a6b1"
      },
      "execution_count": 6,
      "outputs": [
        {
          "output_type": "stream",
          "name": "stdout",
          "text": [
            "[[1. 1. 1.]\n",
            " [1. 1. 1.]]\n"
          ]
        }
      ]
    },
    {
      "cell_type": "code",
      "source": [
        "range_arr=np.arange(0,10,2)\n",
        "print(\"Range Array:\",range_arr)"
      ],
      "metadata": {
        "colab": {
          "base_uri": "https://localhost:8080/"
        },
        "id": "dowsXqXywazo",
        "outputId": "ac9f4d52-57c4-4aad-a45e-9547e1285fbf"
      },
      "execution_count": 8,
      "outputs": [
        {
          "output_type": "stream",
          "name": "stdout",
          "text": [
            "Range Array: [0 2 4 6 8]\n"
          ]
        }
      ]
    },
    {
      "cell_type": "code",
      "source": [
        "rand_arr=np.random.rand(2,3)\n",
        "print(\"Random Array:\\n\",rand_arr)"
      ],
      "metadata": {
        "colab": {
          "base_uri": "https://localhost:8080/"
        },
        "id": "YL3i8Z20w3AM",
        "outputId": "fd8f3f8d-f240-42cb-e86d-7fe08a88dd08"
      },
      "execution_count": 10,
      "outputs": [
        {
          "output_type": "stream",
          "name": "stdout",
          "text": [
            "Random Array:\n",
            " [[0.07160437 0.57336698 0.50301277]\n",
            " [0.41638574 0.38695537 0.55089301]]\n"
          ]
        }
      ]
    },
    {
      "cell_type": "code",
      "source": [
        "arr=np.array([[1,2,3],[4,5,6]])\n",
        "print(\"shape:\", arr.shape)\n",
        "print(\"Dimension:\", arr.ndim)\n",
        "print(\"Data type:\", arr.dtype)\n",
        "print(\"size:\", arr.size)\n",
        "print(\"Item size:\", arr.itemsize)"
      ],
      "metadata": {
        "colab": {
          "base_uri": "https://localhost:8080/"
        },
        "id": "sXQZaHNVxOSG",
        "outputId": "69943a6e-7540-4202-9c48-07d67c071604"
      },
      "execution_count": 13,
      "outputs": [
        {
          "output_type": "stream",
          "name": "stdout",
          "text": [
            "shape: (2, 3)\n",
            "Dimension: 2\n",
            "Data type: int64\n",
            "size: 6\n",
            "Item size: 8\n"
          ]
        }
      ]
    },
    {
      "cell_type": "code",
      "source": [
        "arr=np.array([10,20,30,40,50])\n",
        "print(\"Frist element:\",arr[0])\n",
        "print(\"Last element:\",arr[-1])\n",
        "print(\"slice[1:4]\",arr[1:4])\n",
        "print(\"Evert secound element:\",arr[::2])\n",
        "print(\"from secound element:,\",arr[1:])"
      ],
      "metadata": {
        "colab": {
          "base_uri": "https://localhost:8080/"
        },
        "id": "0DcEc2ptydXM",
        "outputId": "df4e4d44-56f9-420a-b02d-23b2c5a727b9"
      },
      "execution_count": 16,
      "outputs": [
        {
          "output_type": "stream",
          "name": "stdout",
          "text": [
            "Frist element: 10\n",
            "Last element: 50\n",
            "slice[1:4] [20 30 40]\n",
            "Evert secound element: [10 30 50]\n",
            "from secound element:, [20 30 40 50]\n"
          ]
        }
      ]
    },
    {
      "cell_type": "code",
      "source": [
        "import numpy as np\n",
        "arr=np.array([[1,2,3],[4,5,6]])\n",
        "print(np.sum(arr))\n",
        "print(np.max(arr))\n",
        "print(np.min(arr))\n",
        "print(np.mean(arr))\n",
        "print(np.std(arr))\n",
        "print(np.sum(arr,axis=0))\n",
        "print(np.sum(arr,axis=1))"
      ],
      "metadata": {
        "colab": {
          "base_uri": "https://localhost:8080/"
        },
        "id": "Ydi4e21SzlKQ",
        "outputId": "290a7644-2a6d-4fd7-b746-d682357355fd"
      },
      "execution_count": 3,
      "outputs": [
        {
          "output_type": "stream",
          "name": "stdout",
          "text": [
            "21\n",
            "6\n",
            "1\n",
            "3.5\n",
            "1.707825127659933\n",
            "[5 7 9]\n",
            "[ 6 15]\n"
          ]
        }
      ]
    },
    {
      "cell_type": "code",
      "source": [
        "import numpy as np\n",
        "arr2=np.array([[1,2,3],[4,5,6]])\n",
        "print(\"Element at row1,col2:\", arr2[0,1])\n",
        "print(\"Secound row:\", arr2[1, :])\n",
        "print(\"Secound column:\", arr2[:, 1])"
      ],
      "metadata": {
        "colab": {
          "base_uri": "https://localhost:8080/"
        },
        "id": "p3C2tOsP_XTz",
        "outputId": "bb7b3171-6925-434d-d647-cbba4d7ca324"
      },
      "execution_count": 5,
      "outputs": [
        {
          "output_type": "stream",
          "name": "stdout",
          "text": [
            "Element at row1,col2: 2\n",
            "Secound row: [4 5 6]\n",
            "Secound column: [2 5]\n"
          ]
        }
      ]
    }
  ]
}